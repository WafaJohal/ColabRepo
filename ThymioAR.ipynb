{
  "nbformat": 4,
  "nbformat_minor": 0,
  "metadata": {
    "colab": {
      "name": "ThymioAR.ipynb",
      "version": "0.3.2",
      "provenance": [],
      "toc_visible": true,
      "include_colab_link": true
    },
    "kernelspec": {
      "display_name": "Python 3",
      "language": "python",
      "name": "python3"
    }
  },
  "cells": [
    {
      "cell_type": "markdown",
      "metadata": {
        "id": "view-in-github",
        "colab_type": "text"
      },
      "source": [
        "<a href=\"https://colab.research.google.com/github/WafaJohal/ColabRepo/blob/master/ThymioAR.ipynb\" target=\"_parent\"><img src=\"https://colab.research.google.com/assets/colab-badge.svg\" alt=\"Open In Colab\"/></a>"
      ]
    },
    {
      "metadata": {
        "id": "sOm6F4UB579s",
        "colab_type": "code",
        "colab": {}
      },
      "cell_type": "code",
      "source": [
        "import numpy as np\n",
        "import pandas as pd\n",
        "from datetime import datetime, date, time, timedelta\n",
        "from mpl_toolkits.mplot3d import Axes3D\n",
        "import matplotlib.pyplot as plt\n",
        "import numpy as np\n",
        "import math\n",
        "from scipy import stats\n",
        "import seaborn as sns"
      ],
      "execution_count": 0,
      "outputs": []
    },
    {
      "metadata": {
        "id": "MTBtz5y857-B",
        "colab_type": "code",
        "colab": {}
      },
      "cell_type": "code",
      "source": [
        "## function that computes the effect size\n",
        "def effect_size(m1,sd1,n1,m2,sd2,n2):\n",
        "    mdiff = m1-m2\n",
        "    sp = math.sqrt((((n1-1)*(math.pow(sd1,2)))+((n2-1)*(math.pow(sd2,2))))/(n1+n2-2))\n",
        "    d = mdiff/sp\n",
        "    data = [m1,sd1,n1,m2,sd2,n2,mdiff,sp]    \n",
        "    print(\"d = \", d)\n",
        "    #print data\n",
        "    return data"
      ],
      "execution_count": 0,
      "outputs": []
    },
    {
      "metadata": {
        "id": "-ArfqO0z57-P",
        "colab_type": "code",
        "colab": {},
        "outputId": "4847e6f2-11d1-4d2c-92cc-3f7acc01e383"
      },
      "cell_type": "code",
      "source": [
        "csvfilename = 'test_simplified.csv'\n",
        "csvfilename = 'test_simplified_arranged.csv'\n",
        "df = pd.read_csv(csvfilename)\n",
        "print(df.dtypes)\n",
        "df.head()"
      ],
      "execution_count": 0,
      "outputs": [
        {
          "output_type": "stream",
          "text": [
            "Unnamed: 0      int64\n",
            "AGE           float64\n",
            "AR             object\n",
            "Classroom      object\n",
            "ID.            object\n",
            "Date           object\n",
            "Name           object\n",
            "Gender         object\n",
            "Average       float64\n",
            "PAM           float64\n",
            "Teacher        object\n",
            "Work Group      int64\n",
            "value         float64\n",
            "test           object\n",
            "concept        object\n",
            "dtype: object\n"
          ],
          "name": "stdout"
        },
        {
          "output_type": "execute_result",
          "data": {
            "text/html": [
              "<div>\n",
              "<table border=\"1\" class=\"dataframe\">\n",
              "  <thead>\n",
              "    <tr style=\"text-align: right;\">\n",
              "      <th></th>\n",
              "      <th>Unnamed: 0</th>\n",
              "      <th>AGE</th>\n",
              "      <th>AR</th>\n",
              "      <th>Classroom</th>\n",
              "      <th>ID.</th>\n",
              "      <th>Date</th>\n",
              "      <th>Name</th>\n",
              "      <th>Gender</th>\n",
              "      <th>Average</th>\n",
              "      <th>PAM</th>\n",
              "      <th>Teacher</th>\n",
              "      <th>Work Group</th>\n",
              "      <th>value</th>\n",
              "      <th>test</th>\n",
              "      <th>concept</th>\n",
              "    </tr>\n",
              "  </thead>\n",
              "  <tbody>\n",
              "    <tr>\n",
              "      <th>0</th>\n",
              "      <td>1</td>\n",
              "      <td>NaN</td>\n",
              "      <td>NOAR</td>\n",
              "      <td>Olders</td>\n",
              "      <td>C01</td>\n",
              "      <td>01.mai.17</td>\n",
              "      <td>Romain A</td>\n",
              "      <td>Male</td>\n",
              "      <td>4.6</td>\n",
              "      <td>1</td>\n",
              "      <td>FM</td>\n",
              "      <td>1</td>\n",
              "      <td>1</td>\n",
              "      <td>Pretest</td>\n",
              "      <td>C1</td>\n",
              "    </tr>\n",
              "    <tr>\n",
              "      <th>1</th>\n",
              "      <td>2</td>\n",
              "      <td>NaN</td>\n",
              "      <td>NOAR</td>\n",
              "      <td>Olders</td>\n",
              "      <td>C02</td>\n",
              "      <td>01.mai.17</td>\n",
              "      <td>Marine F</td>\n",
              "      <td>Female</td>\n",
              "      <td>4.8</td>\n",
              "      <td>0</td>\n",
              "      <td>FM</td>\n",
              "      <td>1</td>\n",
              "      <td>0</td>\n",
              "      <td>Pretest</td>\n",
              "      <td>C1</td>\n",
              "    </tr>\n",
              "    <tr>\n",
              "      <th>2</th>\n",
              "      <td>3</td>\n",
              "      <td>NaN</td>\n",
              "      <td>NOAR</td>\n",
              "      <td>Olders</td>\n",
              "      <td>C03</td>\n",
              "      <td>01.mai.17</td>\n",
              "      <td>Alexandre H</td>\n",
              "      <td>Male</td>\n",
              "      <td>4.5</td>\n",
              "      <td>0</td>\n",
              "      <td>FM</td>\n",
              "      <td>2</td>\n",
              "      <td>0</td>\n",
              "      <td>Pretest</td>\n",
              "      <td>C1</td>\n",
              "    </tr>\n",
              "    <tr>\n",
              "      <th>3</th>\n",
              "      <td>4</td>\n",
              "      <td>NaN</td>\n",
              "      <td>NOAR</td>\n",
              "      <td>Olders</td>\n",
              "      <td>C04</td>\n",
              "      <td>01.mai.17</td>\n",
              "      <td>Daniel K</td>\n",
              "      <td>Male</td>\n",
              "      <td>4.7</td>\n",
              "      <td>0</td>\n",
              "      <td>FM</td>\n",
              "      <td>2</td>\n",
              "      <td>0</td>\n",
              "      <td>Pretest</td>\n",
              "      <td>C1</td>\n",
              "    </tr>\n",
              "    <tr>\n",
              "      <th>4</th>\n",
              "      <td>5</td>\n",
              "      <td>NaN</td>\n",
              "      <td>NOAR</td>\n",
              "      <td>Olders</td>\n",
              "      <td>C05</td>\n",
              "      <td>01.mai.17</td>\n",
              "      <td>Maria G</td>\n",
              "      <td>Female</td>\n",
              "      <td>4.5</td>\n",
              "      <td>1</td>\n",
              "      <td>FM</td>\n",
              "      <td>3</td>\n",
              "      <td>0</td>\n",
              "      <td>Pretest</td>\n",
              "      <td>C1</td>\n",
              "    </tr>\n",
              "  </tbody>\n",
              "</table>\n",
              "</div>"
            ],
            "text/plain": [
              "   Unnamed: 0  AGE    AR Classroom  ID.       Date         Name  Gender  \\\n",
              "0           1  NaN  NOAR    Olders  C01  01.mai.17     Romain A    Male   \n",
              "1           2  NaN  NOAR    Olders  C02  01.mai.17     Marine F  Female   \n",
              "2           3  NaN  NOAR    Olders  C03  01.mai.17  Alexandre H    Male   \n",
              "3           4  NaN  NOAR    Olders  C04  01.mai.17     Daniel K    Male   \n",
              "4           5  NaN  NOAR    Olders  C05  01.mai.17      Maria G  Female   \n",
              "\n",
              "   Average  PAM Teacher  Work Group  value     test concept  \n",
              "0      4.6    1      FM           1      1  Pretest      C1  \n",
              "1      4.8    0      FM           1      0  Pretest      C1  \n",
              "2      4.5    0      FM           2      0  Pretest      C1  \n",
              "3      4.7    0      FM           2      0  Pretest      C1  \n",
              "4      4.5    1      FM           3      0  Pretest      C1  "
            ]
          },
          "metadata": {
            "tags": []
          },
          "execution_count": 3
        }
      ]
    },
    {
      "metadata": {
        "id": "fLG2_d8Y57-l",
        "colab_type": "text"
      },
      "cell_type": "markdown",
      "source": [
        "### ask francesco age of older kids (which class)"
      ]
    },
    {
      "metadata": {
        "id": "sxHEhrG457-p",
        "colab_type": "code",
        "colab": {},
        "outputId": "7e876100-f58a-4da2-c201-3455af5408a2"
      },
      "cell_type": "code",
      "source": [
        "print('Demographics')\n",
        "m = df[df['Classroom'] == 'Youngs'].AGE.mean()\n",
        "std = df[df['Classroom'] == 'Youngs'].AGE.std()\n",
        "print('Youngs M=%1.2f, STD=%1.2f' % (m, std))\n",
        "m = df[df['Classroom'] == 'Olders'].AGE.mean()\n",
        "std = df[df['Classroom'] == ' Olders'].AGE.std()\n",
        "print('Olders M=%1.2f, STD=%1.2f' % (m, std))\n",
        "print('------------')\n",
        "m = df[df['Gender'] == 'Male'].AGE.mean()\n",
        "std = df[df['Gender'] == 'Male'].AGE.std()\n",
        "print('Male M=%1.2f, STD=%1.2f' % (m, std))\n",
        "m = df[df['Gender'] == 'Female'].AGE.mean()\n",
        "std = df[df['Gender'] == 'Female'].AGE.std()\n",
        "print('Female M=%1.2f, STD=%1.2f' % (m, std))\n"
      ],
      "execution_count": 0,
      "outputs": [
        {
          "output_type": "stream",
          "text": [
            "Demographics\n",
            "Youngs M=10.09, STD=0.78\n",
            "Olders M=nan, STD=nan\n",
            "------------\n",
            "Male M=10.17, STD=0.80\n",
            "Female M=10.00, STD=0.74\n"
          ],
          "name": "stdout"
        }
      ]
    },
    {
      "metadata": {
        "id": "oXrG_NCB57-_",
        "colab_type": "code",
        "colab": {},
        "outputId": "80c847b0-b168-4ff2-e34e-7dd77112e2a2"
      },
      "cell_type": "code",
      "source": [
        "#df.boxplot(column=\"value\",by=['AR','Classroom'])\n",
        "#plt.show()\n",
        "\n",
        "import statsmodels.graphics.factorplots as stsp\n",
        "fig = stsp.interaction_plot(df.AR, df.Classroom,df.value,\n",
        "            colors=['red','blue'], markers=['D','^'])\n",
        "import matplotlib.pyplot as plt\n",
        "plt.ylim(df.value.min(),df.value.max())\n",
        "plt.show()\n"
      ],
      "execution_count": 0,
      "outputs": [
        {
          "output_type": "display_data",
          "data": {
            "image/png": "[encoded data removed]",
            "text/plain": [
              "<Figure size 432x288 with 1 Axes>"
            ]
          },
          "metadata": {
            "tags": []
          }
        }
      ]
    },
    {
      "metadata": {
        "id": "En_92P5K57_M",
        "colab_type": "code",
        "colab": {},
        "outputId": "9b281974-3526-40d3-be52-dcf7b6af9b98"
      },
      "cell_type": "code",
      "source": [
        "df['Classroom'].value_counts().plot( kind='bar')\n",
        "plt.show()\n",
        "df['Gender'].value_counts().plot( kind='bar')\n",
        "plt.show()"
      ],
      "execution_count": 0,
      "outputs": [
        {
          "output_type": "display_data",
          "data": {
            "image/png": "[encoded data removed]",
            "text/plain": [
              "<Figure size 432x288 with 1 Axes>"
            ]
          },
          "metadata": {
            "tags": []
          }
        },
        {
          "output_type": "display_data",
          "data": {
            "image/png": "[encoded data removed]",
            "text/plain": [
              "<Figure size 432x288 with 1 Axes>"
            ]
          },
          "metadata": {
            "tags": []
          }
        }
      ]
    },
    {
      "metadata": {
        "id": "3P_YFhfQ57_c",
        "colab_type": "text"
      },
      "cell_type": "markdown",
      "source": [
        "# H1   Augmented Reality >  Non-AR condition. "
      ]
    },
    {
      "metadata": {
        "id": "L6eiBRhE57_f",
        "colab_type": "code",
        "colab": {},
        "outputId": "f7353be0-7422-4953-9b30-43a43c28f84d"
      },
      "cell_type": "code",
      "source": [
        "print(\"============== PRETEST ==============\")\n",
        "dfpre = df[df['test']=='Pretest']\n",
        "dfAR = dfpre[dfpre['AR'] == \"AR\"]\n",
        "dfNAR = dfpre[dfpre['AR'] == \"NOAR\"]\n",
        "\n",
        "print(dfAR.value.std())\n",
        "print(dfNAR.value.std())\n",
        "# Calculates the T-test for the means of TWO INDEPENDENT samples of scores.\n",
        "t2, p2 = stats.ttest_ind(dfAR.value,dfNAR.value, equal_var= False)\n",
        "print(\"t = \" + str(t2))\n",
        "print(\"p = \" + str(p2))\n",
        "\n",
        "print(\"============== MIDTEST ==============\")\n",
        "dfmid = df[df['test']=='Midtest']\n",
        "dfAR = dfmid[dfmid['AR'] == \"AR\"]\n",
        "dfNAR = dfmid[dfmid['AR'] == \"NOAR\"]\n",
        "\n",
        "print(dfAR.value.std())\n",
        "print(dfNAR.value.std())\n",
        "# Calculates the T-test for the means of TWO INDEPENDENT samples of scores.\n",
        "t2, p2 = stats.ttest_ind(dfAR.value,dfNAR.value, equal_var= False)\n",
        "print(\"t = \" + str(t2))\n",
        "print(\"p = \" + str(p2))\n",
        "\n",
        "\n",
        "\n",
        "print(\"============== POSTTEST ==============\")\n",
        "dfpost = df[df['test']=='Posttest']\n",
        "dfAR = dfpost[dfpost['AR'] == \"AR\"]\n",
        "dfNAR = dfpost[dfpost['AR'] == \"NOAR\"]\n",
        "\n",
        "print(dfAR.value.mean())\n",
        "print(dfNAR.value.mean())\n",
        "# Calculates the T-test for the means of TWO INDEPENDENT samples of scores.\n",
        "t2, p2 = stats.ttest_ind(dfAR.value,dfNAR.value, equal_var= False)\n",
        "print(\"t = \" + str(t2))\n",
        "print(\"p = \" + str(p2))\n",
        "\n",
        "dftest = dfpre.append(dfmid.append(dfpost))\n",
        "\n",
        "g = sns.pointplot(x=\"test\", y=\"value\", hue=\"AR\",data=dftest,  ci=90, dodge=True)\n",
        "sns.despine(offset=10, trim=False)\n",
        "g.set(ylim=(0, 1))\n",
        "plt.savefig(\"../paper/figures/test_AR.svg\")\n",
        "plt.show()"
      ],
      "execution_count": 0,
      "outputs": [
        {
          "output_type": "stream",
          "text": [
            "============== PRETEST ==============\n",
            "0.41244952129273577\n",
            "0.37193033149814964\n",
            "t = 1.110904901580505\n",
            "p = 0.26753932500745187\n",
            "============== MIDTEST ==============\n",
            "0.3391818690688888\n",
            "0.3214631386857085\n",
            "t = -0.5710661902079421\n",
            "p = 0.5683960940298245\n",
            "============== POSTTEST ==============\n",
            "0.6886574074069445\n",
            "0.5882675438605262\n",
            "t = 2.276287478639509\n",
            "p = 0.023547732620139657\n"
          ],
          "name": "stdout"
        },
        {
          "output_type": "display_data",
          "data": {
            "image/png": "[encoded data removed]",
            "text/plain": [
              "<Figure size 432x288 with 1 Axes>"
            ]
          },
          "metadata": {
            "tags": []
          }
        }
      ]
    },
    {
      "metadata": {
        "id": "GGQWsFI857_8",
        "colab_type": "code",
        "colab": {},
        "outputId": "94f1692a-9ccd-4276-91dc-8f85844e8821"
      },
      "cell_type": "code",
      "source": [
        "sns.catplot(kind=\"point\", x=\"test\", y=\"value\", hue=\"AR\",data=dftest,  ci=90, dodge=True, markers=[\"^\", \"o\"], linestyles=[\"-\", \"--\"])\n",
        "sns.despine(offset=10, trim=False)\n",
        "g.set(ylim=(0, 1))"
      ],
      "execution_count": 0,
      "outputs": [
        {
          "output_type": "execute_result",
          "data": {
            "text/plain": [
              "[(0, 1)]"
            ]
          },
          "metadata": {
            "tags": []
          },
          "execution_count": 17
        },
        {
          "output_type": "display_data",
          "data": {
            "image/png": "[encoded data removed]",
            "text/plain": [
              "<Figure size 425x360 with 1 Axes>"
            ]
          },
          "metadata": {
            "tags": []
          }
        }
      ]
    },
    {
      "metadata": {
        "id": "KHjLLqgh58AO",
        "colab_type": "text"
      },
      "cell_type": "markdown",
      "source": [
        "# H2: Interaction Concept and AR"
      ]
    },
    {
      "metadata": {
        "id": "ptpZzpGP58AR",
        "colab_type": "code",
        "colab": {},
        "outputId": "d4200655-4bfa-46c2-b610-9bc13de06819"
      },
      "cell_type": "code",
      "source": [
        "csvfilename = 'test_simplified_arranged.csv'\n",
        "df = pd.read_csv(csvfilename)\n",
        "df.value.hist(by=df.Classroom)\n",
        "plt.show()\n",
        "df.value.hist(by=[df.Classroom,df.AR])\n",
        "plt.show()"
      ],
      "execution_count": 0,
      "outputs": [
        {
          "output_type": "display_data",
          "data": {
            "image/png": "[encoded data removed]",
            "text/plain": [
              "<Figure size 432x288 with 2 Axes>"
            ]
          },
          "metadata": {
            "tags": []
          }
        },
        {
          "output_type": "display_data",
          "data": {
            "image/png": "[encoded data removed]",
            "text/plain": [
              "<Figure size 432x288 with 4 Axes>"
            ]
          },
          "metadata": {
            "tags": []
          }
        }
      ]
    },
    {
      "metadata": {
        "id": "99OHDNIg58Ad",
        "colab_type": "code",
        "colab": {},
        "outputId": "33bbcc31-da9f-4dd3-a96d-760fdd3f26f0"
      },
      "cell_type": "code",
      "source": [
        "print(\"============== C1 ==============\")\n",
        "dfC1 = df[df['concept']=='C1']\n",
        "dfAR = dfC1[dfC1['AR'] == \"AR\"]\n",
        "dfNAR = dfC1[dfC1['AR'] == \"NOAR\"]\n",
        "\n",
        "print(dfAR.value.std())\n",
        "print(dfNAR.value.std())\n",
        "# Calculates the T-test for the means of TWO INDEPENDENT samples of scores.\n",
        "t2, p2 = stats.ttest_ind(dfAR.value,dfNAR.value, equal_var= False)\n",
        "print(\"t = \" + str(t2))\n",
        "print(\"p = \" + str(p2))\n",
        "\n",
        "print(\"============== C2 ==============\")\n",
        "dfC2 = df[df['concept']=='C2']\n",
        "dfAR = dfC2[dfC2['AR'] == \"AR\"]\n",
        "dfNAR = dfC2[dfC2['AR'] == \"NOAR\"]\n",
        "\n",
        "print(dfAR.value.std())\n",
        "print(dfNAR.value.std())\n",
        "# Calculates the T-test for the means of TWO INDEPENDENT samples of scores.\n",
        "t2, p2 = stats.ttest_ind(dfAR.value,dfNAR.value, equal_var= False)\n",
        "print(\"t = \" + str(t2))\n",
        "print(\"p = \" + str(p2))\n",
        "\n",
        "print(\"============== C3 ==============\")\n",
        "dfC3 = df[df['concept']=='C3']\n",
        "dfAR = dfC3[dfC3['AR'] == \"AR\"]\n",
        "dfNAR = dfC3[dfC3['AR'] == \"NOAR\"]\n",
        "\n",
        "print(dfAR.value.std())\n",
        "print(dfNAR.value.std())\n",
        "# Calculates the T-test for the means of TWO INDEPENDENT samples of scores.\n",
        "t2, p2 = stats.ttest_ind(dfAR.value,dfNAR.value, equal_var= False)\n",
        "print(\"t = \" + str(t2))\n",
        "print(\"p = \" + str(p2))\n",
        "\n",
        "print(\"============== C4 ==============\")\n",
        "dfC4 = df[df['concept']=='C4']\n",
        "dfAR = dfC4[dfC4['AR'] == \"AR\"]\n",
        "dfNAR = dfC4[dfC4['AR'] == \"NOAR\"]\n",
        "\n",
        "print(dfAR.value.std())\n",
        "print(dfNAR.value.std())\n",
        "# Calculates the T-test for the means of TWO INDEPENDENT samples of scores.\n",
        "t2, p2 = stats.ttest_ind(dfAR.value,dfNAR.value, equal_var= False)\n",
        "print(\"t = \" + str(t2))\n",
        "print(\"p = \" + str(p2))\n",
        "\n",
        "\n",
        "dftest = dfC1.append(dfC2.append(dfC3.append(dfC4)))\n",
        "\n",
        "sns.pointplot(x=\"concept\", y=\"value\", hue=\"AR\",data=dftest,  ci=90, dodge=True, join=False,  markers=[\"^\", \"o\"])\n",
        "plt.savefig(\"../paper/figures/concept_AR.svg\")\n",
        "plt.show()"
      ],
      "execution_count": 0,
      "outputs": [
        {
          "output_type": "stream",
          "text": [
            "============== C1 ==============\n",
            "0.5908730612830213\n",
            "0.44777366283964487\n",
            "t = -0.005342982182327007\n",
            "p = 0.9957401336105829\n",
            "============== C2 ==============\n",
            "0.46343654652015487\n",
            "0.48720755925196674\n",
            "t = 0.047331023385400614\n",
            "p = 0.9622750784314522\n",
            "============== C3 ==============\n",
            "0.40664441466536927\n",
            "0.3475747305593356\n",
            "t = 3.473233262752101\n",
            "p = 0.0005782257071043868\n",
            "============== C4 ==============\n",
            "0.38102924888027295\n",
            "0.442434888809106\n",
            "t = -1.2632876398237043\n",
            "p = 0.20729274931342484\n"
          ],
          "name": "stdout"
        },
        {
          "output_type": "display_data",
          "data": {
            "image/png": "[encoded data removed]",
            "text/plain": [
              "<Figure size 432x288 with 1 Axes>"
            ]
          },
          "metadata": {
            "tags": []
          }
        }
      ]
    },
    {
      "metadata": {
        "id": "1ztmnWrG58At",
        "colab_type": "text"
      },
      "cell_type": "markdown",
      "source": [
        "# H3 Interaction effect Age X AR"
      ]
    },
    {
      "metadata": {
        "id": "dpYQqeJ858Aw",
        "colab_type": "code",
        "colab": {},
        "outputId": "757687eb-bc9b-4296-fe56-6ea581ff9bd8"
      },
      "cell_type": "code",
      "source": [
        "print(\"============== Youngs ==============\")\n",
        "dfy = df[df['Classroom']=='Youngs']\n",
        "dfAR = dfy[dfy['AR'] == \"AR\"]\n",
        "dfNAR = dfy[dfy['AR'] == \"NOAR\"]\n",
        "\n",
        "print(dfAR.value.std())\n",
        "print(dfNAR.value.std())\n",
        "# Calculates the T-test for the means of TWO INDEPENDENT samples of scores.\n",
        "t2, p2 = stats.ttest_ind(dfAR.value,dfNAR.value, equal_var= False)\n",
        "print(\"t = \" + str(t2))\n",
        "print(\"p = \" + str(p2))\n",
        "\n",
        "print(\"============== Olders ==============\")\n",
        "dfO = df[df['Classroom']=='Olders']\n",
        "dfAR = dfO[dfO['AR'] == \"AR\"]\n",
        "dfNAR = dfO[dfO['AR'] == \"NOAR\"]\n",
        "\n",
        "print(dfAR.value.std())\n",
        "print(dfNAR.value.std())\n",
        "# Calculates the T-test for the means of TWO INDEPENDENT samples of scores.\n",
        "t2, p2 = stats.ttest_ind(dfAR.value,dfNAR.value, equal_var= False)\n",
        "print(\"t = \" + str(t2))\n",
        "print(\"p = \" + str(p2))\n",
        "\n",
        "dftest = dfy.append(dfO)\n",
        "\n",
        "sns.pointplot(x=\"Classroom\", y=\"value\", hue=\"AR\",data=dftest,  ci=90, dodge=True, join=False,  markers=[\"^\", \"o\"])\n",
        "plt.savefig(\"../paper/figures/age_AR.svg\")\n",
        "plt.show()"
      ],
      "execution_count": 0,
      "outputs": [
        {
          "output_type": "stream",
          "text": [
            "============== Youngs ==============\n",
            "0.4871468404199836\n",
            "0.4419522874501942\n",
            "t = 0.29333525566978164\n",
            "p = 0.769335036223643\n",
            "============== Olders ==============\n",
            "0.4281594708923276\n",
            "0.44528059120626745\n",
            "t = 1.1553036080313588\n",
            "p = 0.2484439110456369\n"
          ],
          "name": "stdout"
        },
        {
          "output_type": "display_data",
          "data": {
            "image/png": "[encoded data removed]",
            "text/plain": [
              "<Figure size 432x288 with 1 Axes>"
            ]
          },
          "metadata": {
            "tags": []
          }
        }
      ]
    },
    {
      "metadata": {
        "id": "2iPd6mj858A6",
        "colab_type": "text"
      },
      "cell_type": "markdown",
      "source": [
        "# H4 interaction Gender X AR"
      ]
    },
    {
      "metadata": {
        "id": "Ab7LM_3E58A-",
        "colab_type": "code",
        "colab": {},
        "outputId": "940f2c3a-4a9d-45d4-b1bf-ff34af062d15"
      },
      "cell_type": "code",
      "source": [
        "print(\"============== Girls ==============\")\n",
        "dfy = df[df['Gender']=='Female']\n",
        "dfAR = dfy[dfy['AR'] == \"AR\"]\n",
        "dfNAR = dfy[dfy['AR'] == \"NOAR\"]\n",
        "\n",
        "print(dfAR.value.std())\n",
        "print(dfNAR.value.std())\n",
        "# Calculates the T-test for the means of TWO INDEPENDENT samples of scores.\n",
        "t2, p2 = stats.ttest_ind(dfAR.value,dfNAR.value, equal_var= False)\n",
        "print(\"t = \" + str(t2))\n",
        "print(\"p = \" + str(p2))\n",
        "\n",
        "print(\"============== Boys ==============\")\n",
        "dfO = df[df['Gender']=='Male']\n",
        "dfAR = dfO[dfO['AR'] == \"AR\"]\n",
        "dfNAR = dfO[dfO['AR'] == \"NOAR\"]\n",
        "\n",
        "print(dfAR.value.std())\n",
        "print(dfNAR.value.std())\n",
        "# Calculates the T-test for the means of TWO INDEPENDENT samples of scores.\n",
        "t2, p2 = stats.ttest_ind(dfAR.value,dfNAR.value, equal_var= False)\n",
        "print(\"t = \" + str(t2))\n",
        "print(\"p = \" + str(p2))\n",
        "\n",
        "dftest = dfy.append(dfO)\n",
        "\n",
        "sns.pointplot(x=\"Gender\", y=\"value\", hue=\"AR\",data=dftest,  ci=90, dodge=True, join=False,  markers=[\"^\", \"o\"])\n",
        "plt.savefig(\"../paper/figures/gender_AR.svg\")\n",
        "plt.show()"
      ],
      "execution_count": 0,
      "outputs": [
        {
          "output_type": "stream",
          "text": [
            "============== Girls ==============\n",
            "0.462604716117167\n",
            "0.4548012200207348\n",
            "t = -0.5414492446042749\n",
            "p = 0.58836870299513\n",
            "============== Boys ==============\n",
            "0.4735071508381184\n",
            "0.4381654480522937\n",
            "t = 1.6963557530798172\n",
            "p = 0.09023157169359489\n"
          ],
          "name": "stdout"
        },
        {
          "output_type": "display_data",
          "data": {
            "image/png": "[encoded data removed]",
            "text/plain": [
              "<Figure size 432x288 with 1 Axes>"
            ]
          },
          "metadata": {
            "tags": []
          }
        }
      ]
    },
    {
      "metadata": {
        "id": "68StDR4A58BM",
        "colab_type": "code",
        "colab": {},
        "outputId": "31db49a8-6520-4e3a-c5b4-2ec81b76f13d"
      },
      "cell_type": "code",
      "source": [
        "print(df.groupby(\"Classroom\").describe(include = \"value\")[\"value\"]\n",
        "\n",
        "dfyoung = df.loc[(df.Classroom == \"Youngs\")]\n",
        "dfold = df.loc[(df.Classroom == \"Olders\")]\n",
        "\n",
        "\n",
        "\n",
        "# Calculates the T-test for the means of TWO INDEPENDENT samples of scores.\n",
        "t2, p2 = stats.ttest_ind(dfyoung.value,dfold.value)\n",
        "print(\"t = \" + str(t2))\n",
        "print(\"p = \" + str(2*p2))\n",
        "\n",
        "effect_size(dfyoung.value.mean(),dfyoung.value.std(),len(dfyoung.value),\n",
        "            dfold.value.mean(),dfold.value.std(),len(dfold.value))\n",
        "\n",
        "print()"
      ],
      "execution_count": 0,
      "outputs": [
        {
          "output_type": "stream",
          "text": [
            "                   Unnamed: 0         AGE    AR  ID.        Date  \\\n",
            "Classroom                                                          \n",
            "Olders    25%      359.500000         NaN   NaN  NaN         NaN   \n",
            "          50%      718.000000         NaN   NaN  NaN         NaN   \n",
            "          75%     1076.500000         NaN   NaN  NaN         NaN   \n",
            "          count    580.000000    0.000000   580  580         580   \n",
            "          freq            NaN         NaN   300   20         300   \n",
            "          max     1435.000000         NaN   NaN  NaN         NaN   \n",
            "          mean     718.000000         NaN   NaN  NaN         NaN   \n",
            "          min        1.000000         NaN   NaN  NaN         NaN   \n",
            "          std      427.155228         NaN   NaN  NaN         NaN   \n",
            "          top             NaN         NaN  NOAR  C05   01.mai.17   \n",
            "          unique          NaN         NaN     2   29           2   \n",
            "Youngs    25%      392.500000    9.000000   NaN  NaN         NaN   \n",
            "          50%      755.000000   10.000000   NaN  NaN         NaN   \n",
            "          75%     1117.500000   11.000000   NaN  NaN         NaN   \n",
            "          count    900.000000  460.000000   900  900         900   \n",
            "          freq            NaN         NaN   460   20         520   \n",
            "          max     1480.000000   11.000000   NaN  NaN         NaN   \n",
            "          mean     755.000000   10.086957   NaN  NaN         NaN   \n",
            "          min       30.000000    9.000000   NaN  NaN         NaN   \n",
            "          std      427.139775    0.776173   NaN  NaN         NaN   \n",
            "          top             NaN         NaN  NOAR  C69  22.juin.17   \n",
            "          unique          NaN         NaN     2   45           2   \n",
            "\n",
            "                             Name  Gender     Average         PAM Teacher  \\\n",
            "Classroom                                                                   \n",
            "Olders    25%                 NaN     NaN    4.200000    0.000000     NaN   \n",
            "          50%                 NaN     NaN    4.600000    0.000000     NaN   \n",
            "          75%                 NaN     NaN    4.800000    1.000000     NaN   \n",
            "          count               580     580  580.000000  580.000000     580   \n",
            "          freq                 20     380         NaN         NaN     320   \n",
            "          max                 NaN     NaN    5.300000    1.000000     NaN   \n",
            "          mean                NaN     NaN    4.527586    0.275862     NaN   \n",
            "          min                 NaN     NaN    3.800000    0.000000     NaN   \n",
            "          std                 NaN     NaN    0.407102    0.447333     NaN   \n",
            "          top     Milanese Daniel    Male         NaN         NaN      OR   \n",
            "          unique               29       2         NaN         NaN       2   \n",
            "Youngs    25%                 NaN     NaN         NaN         NaN     NaN   \n",
            "          50%                 NaN     NaN         NaN         NaN     NaN   \n",
            "          75%                 NaN     NaN         NaN         NaN     NaN   \n",
            "          count               900     900    0.000000    0.000000     900   \n",
            "          freq                 40     520         NaN         NaN     480   \n",
            "          max                 NaN     NaN         NaN         NaN     NaN   \n",
            "          mean                NaN     NaN         NaN         NaN     NaN   \n",
            "          min                 NaN     NaN         NaN         NaN     NaN   \n",
            "          std                 NaN     NaN         NaN         NaN     NaN   \n",
            "          top               Lilou  Female         NaN         NaN      FM   \n",
            "          unique               41       2         NaN         NaN       2   \n",
            "\n",
            "                  Work Group       value             test concept  \n",
            "Classroom                                                          \n",
            "Olders    25%       1.000000    0.000000              NaN     NaN  \n",
            "          50%       2.000000    0.500000              NaN     NaN  \n",
            "          75%       3.000000    0.833333              NaN     NaN  \n",
            "          count   580.000000  580.000000              580     580  \n",
            "          freq           NaN         NaN              116     145  \n",
            "          max       4.000000    1.000000              NaN     NaN  \n",
            "          mean      2.379310    0.431897              NaN     NaN  \n",
            "          min       1.000000   -1.000000              NaN     NaN  \n",
            "          std       1.096825    0.437225              NaN     NaN  \n",
            "          top            NaN         NaN          Midtest      C2  \n",
            "          unique         NaN         NaN                5       4  \n",
            "Youngs    25%       2.000000    0.000000              NaN     NaN  \n",
            "          50%       3.000000    0.166667              NaN     NaN  \n",
            "          75%       4.000000    0.541667              NaN     NaN  \n",
            "          count   900.000000  900.000000              900     900  \n",
            "          freq           NaN         NaN              180     225  \n",
            "          max       5.000000    1.000000              NaN     NaN  \n",
            "          mean      2.755556    0.304815              NaN     NaN  \n",
            "          min       1.000000   -1.000000              NaN     NaN  \n",
            "          std       1.302954    0.464360              NaN     NaN  \n",
            "          top            NaN         NaN  MidLearningGain      C2  \n",
            "          unique         NaN         NaN                5       4  \n"
          ],
          "name": "stdout"
        },
        {
          "output_type": "error",
          "ename": "TypeError",
          "evalue": "'NoneType' object is not subscriptable",
          "traceback": [
            "\u001b[0;31m---------------------------------------------------------------------------\u001b[0m",
            "\u001b[0;31mTypeError\u001b[0m                                 Traceback (most recent call last)",
            "\u001b[0;32m<ipython-input-27-8e1161108d3a>\u001b[0m in \u001b[0;36m<module>\u001b[0;34m()\u001b[0m\n\u001b[0;32m----> 1\u001b[0;31m \u001b[0mprint\u001b[0m\u001b[0;34m(\u001b[0m\u001b[0mdf\u001b[0m\u001b[0;34m.\u001b[0m\u001b[0mgroupby\u001b[0m\u001b[0;34m(\u001b[0m\u001b[0;34m\"Classroom\"\u001b[0m\u001b[0;34m)\u001b[0m\u001b[0;34m.\u001b[0m\u001b[0mdescribe\u001b[0m\u001b[0;34m(\u001b[0m\u001b[0minclude\u001b[0m \u001b[0;34m=\u001b[0m \u001b[0;34m\"value\"\u001b[0m\u001b[0;34m)\u001b[0m\u001b[0;34m)\u001b[0m\u001b[0;34m[\u001b[0m\u001b[0;34m\"value\"\u001b[0m\u001b[0;34m]\u001b[0m\u001b[0;34m\u001b[0m\u001b[0m\n\u001b[0m\u001b[1;32m      2\u001b[0m \u001b[0;34m\u001b[0m\u001b[0m\n\u001b[1;32m      3\u001b[0m \u001b[0mdfyoung\u001b[0m \u001b[0;34m=\u001b[0m \u001b[0mdf\u001b[0m\u001b[0;34m.\u001b[0m\u001b[0mloc\u001b[0m\u001b[0;34m[\u001b[0m\u001b[0;34m(\u001b[0m\u001b[0mdf\u001b[0m\u001b[0;34m.\u001b[0m\u001b[0mClassroom\u001b[0m \u001b[0;34m==\u001b[0m \u001b[0;34m\"Youngs\"\u001b[0m\u001b[0;34m)\u001b[0m\u001b[0;34m]\u001b[0m\u001b[0;34m\u001b[0m\u001b[0m\n\u001b[1;32m      4\u001b[0m \u001b[0mdfold\u001b[0m \u001b[0;34m=\u001b[0m \u001b[0mdf\u001b[0m\u001b[0;34m.\u001b[0m\u001b[0mloc\u001b[0m\u001b[0;34m[\u001b[0m\u001b[0;34m(\u001b[0m\u001b[0mdf\u001b[0m\u001b[0;34m.\u001b[0m\u001b[0mClassroom\u001b[0m \u001b[0;34m==\u001b[0m \u001b[0;34m\"Olders\"\u001b[0m\u001b[0;34m)\u001b[0m\u001b[0;34m]\u001b[0m\u001b[0;34m\u001b[0m\u001b[0m\n\u001b[1;32m      5\u001b[0m \u001b[0;34m\u001b[0m\u001b[0m\n",
            "\u001b[0;31mTypeError\u001b[0m: 'NoneType' object is not subscriptable"
          ]
        }
      ]
    },
    {
      "metadata": {
        "id": "YU9FLJmV58Ba",
        "colab_type": "code",
        "colab": {}
      },
      "cell_type": "code",
      "source": [
        ""
      ],
      "execution_count": 0,
      "outputs": []
    }
  ]
}